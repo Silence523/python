{
 "cells": [
  {
   "cell_type": "markdown",
   "metadata": {},
   "source": [
    "1.字典\n",
    "定义\n",
    "创建\n",
    "字典的方法"
   ]
  },
  {
   "cell_type": "markdown",
   "metadata": {},
   "source": [
    "定义：字典是一个键值对，使用{}括起来，里面一个键对应一个值，如：key:value;键值对之间使用逗号分隔"
   ]
  },
  {
   "cell_type": "code",
   "execution_count": 410,
   "metadata": {},
   "outputs": [
    {
     "data": {
      "text/plain": [
       "{'name': 'Allen', 'age': 23, 'gender': 'male', 'profession': 'student'}"
      ]
     },
     "execution_count": 410,
     "metadata": {},
     "output_type": "execute_result"
    }
   ],
   "source": [
    "info = {'name':'Allen','age':23,'gender':'male','profession':'student'}\n",
    "info"
   ]
  },
  {
   "cell_type": "code",
   "execution_count": 411,
   "metadata": {},
   "outputs": [
    {
     "name": "stdout",
     "output_type": "stream",
     "text": [
      "<class 'dict'>\n"
     ]
    }
   ],
   "source": [
    "print(type(info))"
   ]
  },
  {
   "cell_type": "code",
   "execution_count": 412,
   "metadata": {},
   "outputs": [
    {
     "data": {
      "text/plain": [
       "23"
      ]
     },
     "execution_count": 412,
     "metadata": {},
     "output_type": "execute_result"
    }
   ],
   "source": [
    "info['age']         #可以通过dict的变量名以及key值来访问key中对应的值"
   ]
  },
  {
   "cell_type": "code",
   "execution_count": 413,
   "metadata": {},
   "outputs": [
    {
     "data": {
      "text/plain": [
       "{'name': 'Allen',\n",
       " 'age': 23,\n",
       " 'gender': 'male',\n",
       " 'profession': 'student',\n",
       " 'height': '175'}"
      ]
     },
     "execution_count": 413,
     "metadata": {},
     "output_type": "execute_result"
    }
   ],
   "source": [
    "#添加键值对\n",
    "info['height'] = '175'\n",
    "info"
   ]
  },
  {
   "cell_type": "code",
   "execution_count": 414,
   "metadata": {},
   "outputs": [
    {
     "name": "stdout",
     "output_type": "stream",
     "text": [
      "{'name': 'Allen', 'age': 23, 'gender': 'male', 'profession': 'student', 'height': '175'}\n",
      "{'name': 'Allen', 'age': 23, 'gender': 'male', 'profession': 'student', 'height': '175'}\n",
      "{'name': 'Allen', 'age': 26, 'gender': 'male', 'profession': 'student', 'height': '175'}\n"
     ]
    }
   ],
   "source": [
    " #修改dict中的值\n",
    "print(info)\n",
    "info1 = info\n",
    "print(info1)\n",
    "info['age'] = 26\n",
    "print(info1)             "
   ]
  },
  {
   "cell_type": "code",
   "execution_count": 415,
   "metadata": {},
   "outputs": [
    {
     "data": {
      "text/plain": [
       "{'name': 'Allen', 'gender': 'male', 'profession': 'student', 'height': '175'}"
      ]
     },
     "execution_count": 415,
     "metadata": {},
     "output_type": "execute_result"
    }
   ],
   "source": [
    "#删除键值对\n",
    "del info['age']\n",
    "info"
   ]
  },
  {
   "cell_type": "code",
   "execution_count": 416,
   "metadata": {},
   "outputs": [
    {
     "name": "stdout",
     "output_type": "stream",
     "text": [
      "\n",
      "key: name\n",
      "\n",
      "value Allen\n",
      "\n",
      "key: gender\n",
      "\n",
      "value male\n",
      "\n",
      "key: profession\n",
      "\n",
      "value student\n",
      "\n",
      "key: height\n",
      "\n",
      "value 175\n"
     ]
    }
   ],
   "source": [
    "#遍历dict\n",
    "for key,value in info.items():\n",
    "    print('\\nkey: '+key)\n",
    "    print('\\nvalue '+ value)"
   ]
  },
  {
   "cell_type": "code",
   "execution_count": 417,
   "metadata": {},
   "outputs": [
    {
     "data": {
      "text/plain": [
       "['Name', 'Gender', 'Profession', 'Height']"
      ]
     },
     "execution_count": 417,
     "metadata": {},
     "output_type": "execute_result"
    }
   ],
   "source": [
    "#遍历dict中的key\n",
    "result = []\n",
    "for name in info.keys():\n",
    "    result.append(name.title())      \n",
    "result"
   ]
  },
  {
   "cell_type": "code",
   "execution_count": 418,
   "metadata": {},
   "outputs": [
    {
     "name": "stdout",
     "output_type": "stream",
     "text": [
      "gender\n",
      "height\n",
      "name\n",
      "profession\n"
     ]
    }
   ],
   "source": [
    "#按照顺序遍历所有的key\n",
    "for name in sorted(info.keys()):\n",
    "    print(name)"
   ]
  },
  {
   "cell_type": "code",
   "execution_count": 419,
   "metadata": {},
   "outputs": [
    {
     "name": "stdout",
     "output_type": "stream",
     "text": [
      "Allen\n",
      "male\n",
      "student\n",
      "175\n"
     ]
    }
   ],
   "source": [
    "#遍历dict中所有的值：\n",
    "for value in info.values():\n",
    "    print(value)"
   ]
  },
  {
   "cell_type": "code",
   "execution_count": 420,
   "metadata": {},
   "outputs": [
    {
     "data": {
      "text/plain": [
       "[{'name': 'Allen', 'gender': 'male', 'profession': 'student', 'height': '175'},\n",
       " {'name': 'BOb', 'age': 29, 'gender': 'male', 'profession': 'teacher'},\n",
       " {'name': 'Lisa', 'age': 24, 'gender': 'female', 'profession': 'student'}]"
      ]
     },
     "execution_count": 420,
     "metadata": {},
     "output_type": "execute_result"
    }
   ],
   "source": [
    "#dict中嵌套\n",
    "names1 = info\n",
    "names2 = {'name':'BOb','age':29,'gender':'male','profession':'teacher'}\n",
    "names3 = {'name':'Lisa','age':24,'gender':'female','profession':'student'}\n",
    "name = [names1,names2,names3]\n",
    "name"
   ]
  },
  {
   "cell_type": "code",
   "execution_count": 421,
   "metadata": {},
   "outputs": [
    {
     "name": "stdout",
     "output_type": "stream",
     "text": [
      "[{'name': 'Allen', 'gender': 'male', 'profession': 'student', 'height': '175'}, {'name': 'BOb', 'age': 29, 'gender': 'male', 'profession': 'teacher'}, {'name': 'Lisa', 'age': 24, 'gender': 'female', 'profession': 'student'}]\n"
     ]
    }
   ],
   "source": [
    "#遍历并修改value\n",
    "for n in name:\n",
    "    if n['name'] == 'Bob':\n",
    "        n['age'] = '25'\n",
    "        n['profession'] = 'student'\n",
    "print(name)"
   ]
  },
  {
   "cell_type": "markdown",
   "metadata": {},
   "source": [
    "2.set \n",
    "特性\n",
    "创建\n",
    "方法"
   ]
  },
  {
   "cell_type": "markdown",
   "metadata": {},
   "source": [
    "set定义：是一个无序且不重合的序列；集合是可变的，没有像列表一样的索引值；和dict有点类似，里面存储的是key,且不重复，但没有value"
   ]
  },
  {
   "cell_type": "code",
   "execution_count": 422,
   "metadata": {},
   "outputs": [
    {
     "name": "stdout",
     "output_type": "stream",
     "text": [
      "[0, 1, 2, 3, 4, 5]\n",
      "{0, 1, 2, 3, 4, 5}\n"
     ]
    }
   ],
   "source": [
    "a=[]\n",
    "for i in range(6):\n",
    "    a.append(i)\n",
    "print(a)\n",
    "a_set = set(a)\n",
    "print(a_set)                #可见可以将列表传入到set()中，但是set中会以字典的形式进行存储"
   ]
  },
  {
   "cell_type": "code",
   "execution_count": 423,
   "metadata": {},
   "outputs": [
    {
     "name": "stdout",
     "output_type": "stream",
     "text": [
      "{'g', 'd', 'e', 'b', 'c', 'a', 'f'}\n",
      "------\n",
      "{'g', 'd', 'e', 'b', 'c', 'a', 'f'}\n"
     ]
    }
   ],
   "source": [
    "b_set = set('abcdefg')\n",
    "print(b_set)\n",
    "print('------')\n",
    "print(b_set)"
   ]
  },
  {
   "cell_type": "code",
   "execution_count": 424,
   "metadata": {},
   "outputs": [
    {
     "name": "stdout",
     "output_type": "stream",
     "text": [
      "{'g', 'd', 'e', 'b', 'c', 'a', 'f'}\n"
     ]
    },
    {
     "data": {
      "text/plain": [
       "{'a', 'b', 'c', 'd', 'e', 'f', 'g', 'm'}"
      ]
     },
     "execution_count": 424,
     "metadata": {},
     "output_type": "execute_result"
    }
   ],
   "source": [
    "#添加元素\n",
    "b_set.add('e')\n",
    "print(b_set)           #添加重复的元素，显现不出来\n",
    "b_set.add('m')\n",
    "b_set"
   ]
  },
  {
   "cell_type": "code",
   "execution_count": 425,
   "metadata": {},
   "outputs": [
    {
     "data": {
      "text/plain": [
       "{'a', 'b', 'c', 'd', 'e', 'f', 'm'}"
      ]
     },
     "execution_count": 425,
     "metadata": {},
     "output_type": "execute_result"
    }
   ],
   "source": [
    "#删除元素\n",
    "b_set.remove('g')\n",
    "b_set"
   ]
  },
  {
   "cell_type": "code",
   "execution_count": 426,
   "metadata": {},
   "outputs": [
    {
     "data": {
      "text/plain": [
       "{'a', 'b', 'c', 'd', 'e', 'f', 'm'}"
      ]
     },
     "execution_count": 426,
     "metadata": {},
     "output_type": "execute_result"
    }
   ],
   "source": [
    "#删除元素\n",
    "b_set.discard('g')\n",
    "b_set"
   ]
  },
  {
   "cell_type": "code",
   "execution_count": 427,
   "metadata": {},
   "outputs": [
    {
     "data": {
      "text/plain": [
       "set()"
      ]
     },
     "execution_count": 427,
     "metadata": {},
     "output_type": "execute_result"
    }
   ],
   "source": [
    "#删除所有元素\n",
    "b_set.clear()\n",
    "b_set"
   ]
  },
  {
   "cell_type": "code",
   "execution_count": 428,
   "metadata": {},
   "outputs": [
    {
     "data": {
      "text/plain": [
       "{'a', 'b', 'c', 'd', 'e', 'f', 'g'}"
      ]
     },
     "execution_count": 428,
     "metadata": {},
     "output_type": "execute_result"
    }
   ],
   "source": [
    "b_set = set('abcdefg')\n",
    "b_set"
   ]
  },
  {
   "cell_type": "code",
   "execution_count": 429,
   "metadata": {},
   "outputs": [
    {
     "data": {
      "text/plain": [
       "7"
      ]
     },
     "execution_count": 429,
     "metadata": {},
     "output_type": "execute_result"
    }
   ],
   "source": [
    "#算元素的个数\n",
    "len(b_set)\n"
   ]
  },
  {
   "cell_type": "code",
   "execution_count": 430,
   "metadata": {},
   "outputs": [
    {
     "name": "stdout",
     "output_type": "stream",
     "text": [
      "g\n",
      "d\n",
      "e\n",
      "b\n",
      "c\n",
      "a\n",
      "f\n"
     ]
    }
   ],
   "source": [
    "#遍历元素\n",
    "for i in b_set:\n",
    "    print(i)"
   ]
  },
  {
   "cell_type": "code",
   "execution_count": 431,
   "metadata": {},
   "outputs": [
    {
     "data": {
      "text/plain": [
       "True"
      ]
     },
     "execution_count": 431,
     "metadata": {},
     "output_type": "execute_result"
    }
   ],
   "source": [
    "#判断元素是否在集合中\n",
    "'d' in b_set"
   ]
  },
  {
   "cell_type": "code",
   "execution_count": 432,
   "metadata": {},
   "outputs": [
    {
     "name": "stdout",
     "output_type": "stream",
     "text": [
      "False\n",
      "False\n",
      "False\n",
      "False\n",
      "False\n",
      "True\n",
      "True\n"
     ]
    }
   ],
   "source": [
    "b = ['a','n','f','r']\n",
    "for i in b_set:\n",
    "    print(i in b)\n",
    "   "
   ]
  },
  {
   "cell_type": "code",
   "execution_count": 433,
   "metadata": {},
   "outputs": [
    {
     "data": {
      "text/plain": [
       "{'a', 'f'}"
      ]
     },
     "execution_count": 433,
     "metadata": {},
     "output_type": "execute_result"
    }
   ],
   "source": [
    "#数学计算\n",
    "#求交集\n",
    "b_set.intersection(b)"
   ]
  },
  {
   "cell_type": "code",
   "execution_count": 434,
   "metadata": {},
   "outputs": [
    {
     "data": {
      "text/plain": [
       "{'a', 'b', 'c', 'd', 'e', 'f', 'g', 'n', 'r'}"
      ]
     },
     "execution_count": 434,
     "metadata": {},
     "output_type": "execute_result"
    }
   ],
   "source": [
    "#求并集\n",
    "b_set.union(b)"
   ]
  },
  {
   "cell_type": "code",
   "execution_count": 435,
   "metadata": {},
   "outputs": [
    {
     "data": {
      "text/plain": [
       "{'b', 'c', 'd', 'e', 'g', 'n', 'r'}"
      ]
     },
     "execution_count": 435,
     "metadata": {},
     "output_type": "execute_result"
    }
   ],
   "source": [
    "#差集\n",
    "b_set.symmetric_difference(b)"
   ]
  },
  {
   "cell_type": "code",
   "execution_count": 436,
   "metadata": {},
   "outputs": [
    {
     "data": {
      "text/plain": [
       "{'a', 'b', 'c', 'd', 'e', 'f', 'g'}"
      ]
     },
     "execution_count": 436,
     "metadata": {},
     "output_type": "execute_result"
    }
   ],
   "source": [
    "#常用函数\n",
    "a_set = b_set.copy()\n",
    "a_set"
   ]
  },
  {
   "cell_type": "code",
   "execution_count": 437,
   "metadata": {},
   "outputs": [
    {
     "data": {
      "text/plain": [
       "{'a', 'b', 'c', 'd', 'e', 'f', 'g', 'm'}"
      ]
     },
     "execution_count": 437,
     "metadata": {},
     "output_type": "execute_result"
    }
   ],
   "source": [
    "a_set.update('m')      #传入一个没有的元素，和添加是一样的效果\n",
    "a_set"
   ]
  },
  {
   "cell_type": "code",
   "execution_count": 438,
   "metadata": {},
   "outputs": [
    {
     "name": "stdout",
     "output_type": "stream",
     "text": [
      "{'d', 'e', 'm', 'c', 'a', 'g', 'n', 'b', 'r', 'f'}\n",
      "['a', 'n', 'f', 'r']\n"
     ]
    },
    {
     "data": {
      "text/plain": [
       "{'a', 'f', 'n', 'r'}"
      ]
     },
     "execution_count": 438,
     "metadata": {},
     "output_type": "execute_result"
    }
   ],
   "source": [
    "a_set.update(b)     #传入另一个集合，与并集是一样的\n",
    "print(a_set)\n",
    "print(b)\n",
    "a_set.intersection(b)"
   ]
  },
  {
   "cell_type": "code",
   "execution_count": 439,
   "metadata": {},
   "outputs": [
    {
     "data": {
      "text/plain": [
       "{'a', 'f', 'n', 'r'}"
      ]
     },
     "execution_count": 439,
     "metadata": {},
     "output_type": "execute_result"
    }
   ],
   "source": [
    "a_set.intersection_update(b)   #该函数与求交集有什么差别呢？\n",
    "a_set"
   ]
  },
  {
   "cell_type": "code",
   "execution_count": 440,
   "metadata": {},
   "outputs": [
    {
     "data": {
      "text/plain": [
       "{'a', 'c', 'd', 'n', 'r'}"
      ]
     },
     "execution_count": 440,
     "metadata": {},
     "output_type": "execute_result"
    }
   ],
   "source": [
    "c = ['c','d','f']\n",
    "a_set.symmetric_difference_update(c)            #求并集并干掉相同的，那就是交集的补集\n",
    "a_set"
   ]
  },
  {
   "cell_type": "markdown",
   "metadata": {},
   "source": [
    "3.判断语句:if "
   ]
  },
  {
   "cell_type": "code",
   "execution_count": 441,
   "metadata": {},
   "outputs": [
    {
     "name": "stdout",
     "output_type": "stream",
     "text": [
      "请输入你的年龄： 6\n",
      "6\n",
      "you are child!!\n"
     ]
    }
   ],
   "source": [
    "age = input('请输入你的年龄： ')\n",
    "print(age)\n",
    "age = int(age)\n",
    "if age < 12:\n",
    "    print('you are child!!')\n",
    "elif age>= 12 and age <18:\n",
    "    print('you are teenager!')\n",
    "elif age >=18 and age<65:\n",
    "    print('you are middle age!')\n",
    "else:\n",
    "    print('you are old people!')"
   ]
  },
  {
   "cell_type": "markdown",
   "metadata": {},
   "source": [
    "循环语句while"
   ]
  },
  {
   "cell_type": "code",
   "execution_count": 442,
   "metadata": {},
   "outputs": [
    {
     "name": "stdout",
     "output_type": "stream",
     "text": [
      "[0, 1, 2, 3, 4, 5, 6, 7, 8, 9, 10, 11, 12, 13, 14, 15, 16, 17, 18, 19, 20, 21, 22, 23, 24, 25, 26, 27, 28, 29, 30, 31, 32, 33, 34, 35, 36, 37, 38, 39, 40, 41, 42, 43, 44, 45, 46, 47, 48, 49, 50, 51, 52, 53, 54, 55, 56, 57, 58, 59, 60, 61, 62, 63, 64, 65, 66, 67, 68, 69, 70, 71, 72, 73, 74, 75, 76, 77, 78, 79, 80, 81, 82, 83, 84, 85, 86, 87, 88, 89, 90, 91, 92, 93, 94, 95, 96, 97, 98, 99, 100]\n",
      "100\n",
      "5050\n"
     ]
    }
   ],
   "source": [
    "#1+2+3+.+100\n",
    "numbers = []\n",
    "for i in range(101):\n",
    "    numbers.append(i)\n",
    "print(numbers)\n",
    "m = numbers[-1]\n",
    "print(m)\n",
    "sum = 0\n",
    "n = 0\n",
    "while(n < m+1):\n",
    "    sum+= n\n",
    "    n+=1\n",
    "print(sum)\n",
    "\n"
   ]
  },
  {
   "cell_type": "code",
   "execution_count": 443,
   "metadata": {},
   "outputs": [
    {
     "name": "stdout",
     "output_type": "stream",
     "text": [
      "1 * 1 = 1\n",
      " \n",
      "1 * 2 = 2\n",
      "2 * 2 = 4\n",
      " \n",
      "1 * 3 = 3\n",
      "2 * 3 = 6\n",
      "3 * 3 = 9\n",
      " \n",
      "1 * 4 = 4\n",
      "2 * 4 = 8\n",
      "3 * 4 = 12\n",
      "4 * 4 = 16\n",
      " \n",
      "1 * 5 = 5\n",
      "2 * 5 = 10\n",
      "3 * 5 = 15\n",
      "4 * 5 = 20\n",
      "5 * 5 = 25\n",
      " \n",
      "1 * 6 = 6\n",
      "2 * 6 = 12\n",
      "3 * 6 = 18\n",
      "4 * 6 = 24\n",
      "5 * 6 = 30\n",
      "6 * 6 = 36\n",
      " \n",
      "1 * 7 = 7\n",
      "2 * 7 = 14\n",
      "3 * 7 = 21\n",
      "4 * 7 = 28\n",
      "5 * 7 = 35\n",
      "6 * 7 = 42\n",
      "7 * 7 = 49\n",
      " \n",
      "1 * 8 = 8\n",
      "2 * 8 = 16\n",
      "3 * 8 = 24\n",
      "4 * 8 = 32\n",
      "5 * 8 = 40\n",
      "6 * 8 = 48\n",
      "7 * 8 = 56\n",
      "8 * 8 = 64\n",
      " \n"
     ]
    }
   ],
   "source": [
    "i= 1\n",
    "while i <9:\n",
    "    j =1\n",
    "    while j<=i:\n",
    "        print('%d * %d = %d'%(j,i,j * i))\n",
    "        j+= 1\n",
    "    print(' ')\n",
    "    i+=1"
   ]
  },
  {
   "cell_type": "markdown",
   "metadata": {},
   "source": [
    "while 与break和continue结合使用"
   ]
  },
  {
   "cell_type": "code",
   "execution_count": 444,
   "metadata": {},
   "outputs": [
    {
     "name": "stdout",
     "output_type": "stream",
     "text": [
      "[0, 1, 2, 3, 4, 5, 6, 7, 8, 9, 10, 11, 12, 13, 14, 15, 16, 17, 18, 19, 20, 21, 22, 23, 24, 25, 26, 27, 28, 29, 30, 31, 32, 33, 34, 35, 36, 37, 38, 39, 40, 41, 42, 43, 44, 45, 46, 47, 48, 49, 50, 51, 52, 53, 54, 55, 56, 57, 58, 59, 60, 61, 62, 63, 64, 65, 66, 67, 68, 69, 70, 71, 72, 73, 74, 75, 76, 77, 78, 79, 80, 81, 82, 83, 84, 85, 86, 87, 88, 89, 90, 91, 92, 93, 94, 95, 96, 97, 98, 99, 100]\n",
      "100\n",
      "1225\n"
     ]
    }
   ],
   "source": [
    "#1+2+3+.+100\n",
    "numbers = []\n",
    "for i in range(101):\n",
    "    numbers.append(i)\n",
    "print(numbers)\n",
    "m = numbers[-1]\n",
    "print(m)\n",
    "sum = 0\n",
    "n = 0\n",
    "while(n < m+1):\n",
    "    sum+= n\n",
    "    n+=1\n",
    "    if n == 50:\n",
    "        break\n",
    "print(sum)"
   ]
  },
  {
   "cell_type": "code",
   "execution_count": 445,
   "metadata": {},
   "outputs": [
    {
     "name": "stdout",
     "output_type": "stream",
     "text": [
      "1\n",
      "2\n",
      "3\n",
      "4\n",
      "5\n",
      "6\n",
      "7\n",
      "8\n",
      "9\n",
      "10\n",
      "11\n",
      "12\n",
      "13\n",
      "14\n",
      "15\n",
      "16\n",
      "17\n",
      "18\n",
      "19\n",
      "20\n",
      "21\n",
      "22\n",
      "23\n",
      "24\n",
      "25\n",
      "26\n",
      "27\n",
      "28\n",
      "29\n",
      "30\n",
      "31\n",
      "32\n",
      "33\n",
      "34\n",
      "35\n",
      "36\n",
      "37\n",
      "38\n",
      "39\n",
      "40\n",
      "41\n",
      "42\n",
      "43\n",
      "44\n",
      "45\n",
      "46\n",
      "47\n",
      "48\n",
      "49\n",
      "51\n",
      "52\n",
      "53\n",
      "54\n",
      "55\n",
      "56\n",
      "57\n",
      "58\n",
      "59\n",
      "60\n",
      "61\n",
      "62\n",
      "63\n",
      "64\n",
      "65\n",
      "66\n",
      "67\n",
      "68\n",
      "69\n",
      "70\n",
      "71\n",
      "72\n",
      "73\n",
      "74\n",
      "75\n",
      "76\n",
      "77\n",
      "78\n",
      "79\n",
      "80\n",
      "81\n",
      "82\n",
      "83\n",
      "84\n",
      "85\n",
      "86\n",
      "87\n",
      "88\n",
      "89\n",
      "90\n",
      "91\n",
      "92\n",
      "93\n",
      "94\n",
      "95\n",
      "96\n",
      "97\n",
      "98\n",
      "99\n",
      "100\n",
      "101\n",
      "5050\n"
     ]
    }
   ],
   "source": [
    "#1+2+3+.+100\n",
    "numbers = []\n",
    "for i in range(101):\n",
    "    numbers.append(i)\n",
    "#print(numbers)\n",
    "m = numbers[-1]\n",
    "#print(m)\n",
    "sum = 0\n",
    "n = 0\n",
    "while(n < m+1):\n",
    "    sum+= n\n",
    "    n+=1\n",
    "    if n == 50:\n",
    "        continue             #并没有打印50\n",
    "    print(n)\n",
    "print(sum)"
   ]
  },
  {
   "cell_type": "markdown",
   "metadata": {},
   "source": [
    "4.三目表达式 与c语言的？ ：一样的道理，python使用的是if else"
   ]
  },
  {
   "cell_type": "code",
   "execution_count": 446,
   "metadata": {},
   "outputs": [
    {
     "data": {
      "text/plain": [
       "5.0"
      ]
     },
     "execution_count": 446,
     "metadata": {},
     "output_type": "execute_result"
    }
   ],
   "source": [
    "#第一种（推荐）\n",
    "a = True\n",
    "b = 5.0\n",
    "c = 3\n",
    "d = b  if a else c\n",
    "d"
   ]
  },
  {
   "cell_type": "code",
   "execution_count": 447,
   "metadata": {},
   "outputs": [
    {
     "data": {
      "text/plain": [
       "3"
      ]
     },
     "execution_count": 447,
     "metadata": {},
     "output_type": "execute_result"
    }
   ],
   "source": [
    "a = False\n",
    "b = 5.0\n",
    "c = 3\n",
    "d = b  if a else c\n",
    "d"
   ]
  },
  {
   "cell_type": "code",
   "execution_count": 448,
   "metadata": {},
   "outputs": [
    {
     "data": {
      "text/plain": [
       "5.0"
      ]
     },
     "execution_count": 448,
     "metadata": {},
     "output_type": "execute_result"
    }
   ],
   "source": [
    "#第二种\n",
    "a = True\n",
    "b = 5.0\n",
    "c = 3\n",
    "d = a and b or c\n",
    "d"
   ]
  },
  {
   "cell_type": "code",
   "execution_count": 449,
   "metadata": {},
   "outputs": [
    {
     "data": {
      "text/plain": [
       "3"
      ]
     },
     "execution_count": 449,
     "metadata": {},
     "output_type": "execute_result"
    }
   ],
   "source": [
    "a = False\n",
    "b = 5.0\n",
    "c = 3\n",
    "d = a and b or c\n",
    "d"
   ]
  },
  {
   "cell_type": "code",
   "execution_count": 450,
   "metadata": {},
   "outputs": [
    {
     "name": "stdout",
     "output_type": "stream",
     "text": [
      "3\n"
     ]
    }
   ],
   "source": [
    "#三目表达式的含义\n",
    "if a:\n",
    "    d = b\n",
    "else:\n",
    "    d =c\n",
    "print(d)"
   ]
  },
  {
   "cell_type": "code",
   "execution_count": null,
   "metadata": {},
   "outputs": [],
   "source": []
  }
 ],
 "metadata": {
  "kernelspec": {
   "display_name": "Python 3",
   "language": "python",
   "name": "python3"
  },
  "language_info": {
   "codemirror_mode": {
    "name": "ipython",
    "version": 3
   },
   "file_extension": ".py",
   "mimetype": "text/x-python",
   "name": "python",
   "nbconvert_exporter": "python",
   "pygments_lexer": "ipython3",
   "version": "3.7.1"
  }
 },
 "nbformat": 4,
 "nbformat_minor": 2
}
